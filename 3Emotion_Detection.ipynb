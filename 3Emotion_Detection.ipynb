{
  "cells": [
    {
      "cell_type": "markdown",
      "metadata": {
        "id": "view-in-github",
        "colab_type": "text"
      },
      "source": [
        "<a href=\"https://colab.research.google.com/github/Abhisikta11/Emotion_Detection3/blob/main/3Emotion_Detection.ipynb\" target=\"_parent\"><img src=\"https://colab.research.google.com/assets/colab-badge.svg\" alt=\"Open In Colab\"/></a>"
      ]
    },
    {
      "cell_type": "markdown",
      "metadata": {
        "id": "-lPDPUcIS7Hb"
      },
      "source": [
        "**Uploading Dataset**"
      ]
    },
    {
      "cell_type": "code",
      "execution_count": null,
      "metadata": {
        "colab": {
          "base_uri": "https://localhost:8080/"
        },
        "id": "p4jOydUiSJiT",
        "outputId": "436026b2-89a6-4da7-b1d3-2d38b977da4b"
      },
      "outputs": [
        {
          "output_type": "stream",
          "name": "stdout",
          "text": [
            "Mounted at /content/drive\n"
          ]
        }
      ],
      "source": [
        "from google.colab import drive\n",
        "drive.mount('/content/drive')"
      ]
    },
    {
      "cell_type": "markdown",
      "metadata": {
        "id": "u4_Xm04-TF_E"
      },
      "source": [
        "**Unzipping Dataset**"
      ]
    },
    {
      "cell_type": "code",
      "execution_count": null,
      "metadata": {
        "id": "DkgTyLchTRFs"
      },
      "outputs": [],
      "source": [
        "import os\n",
        "os.environ['KAGGLE_CONFIG_DIR'] = \"/content/drive/MyDrive/3Emotion_Detection\""
      ]
    },
    {
      "cell_type": "code",
      "execution_count": null,
      "metadata": {
        "colab": {
          "base_uri": "https://localhost:8080/"
        },
        "id": "IubkQfn_YAuE",
        "outputId": "d03dc7cd-9760-4647-9ac2-cca0ef0557d8"
      },
      "outputs": [
        {
          "output_type": "stream",
          "name": "stdout",
          "text": [
            "/content/drive/MyDrive/3Emotion_Detection\n"
          ]
        }
      ],
      "source": [
        "%cd /content/drive/MyDrive/3Emotion_Detection"
      ]
    },
    {
      "cell_type": "code",
      "execution_count": null,
      "metadata": {
        "colab": {
          "base_uri": "https://localhost:8080/",
          "height": 36
        },
        "id": "NzX0sPMLYael",
        "outputId": "e15bd498-2a33-4b2c-fd99-c9708c52e892"
      },
      "outputs": [
        {
          "output_type": "execute_result",
          "data": {
            "text/plain": [
              "'/content/drive/MyDrive/3Emotion_Detection'"
            ],
            "application/vnd.google.colaboratory.intrinsic+json": {
              "type": "string"
            }
          },
          "metadata": {},
          "execution_count": 4
        }
      ],
      "source": [
        "pwd"
      ]
    },
    {
      "cell_type": "code",
      "execution_count": null,
      "metadata": {
        "colab": {
          "base_uri": "https://localhost:8080/"
        },
        "id": "d70WDFf7Ykfg",
        "outputId": "8def78fe-6387-4482-ba2b-d6903635393a"
      },
      "outputs": [
        {
          "output_type": "stream",
          "name": "stdout",
          "text": [
            "Dataset URL: https://www.kaggle.com/datasets/abhisiktanayak/nationality-detection\n",
            "License(s): unknown\n",
            "nationality-detection.zip: Skipping, found more recently modified local copy (use --force to force download)\n"
          ]
        }
      ],
      "source": [
        "!kaggle datasets download -d abhisiktanayak/nationality-detection"
      ]
    },
    {
      "cell_type": "code",
      "execution_count": null,
      "metadata": {
        "colab": {
          "base_uri": "https://localhost:8080/"
        },
        "id": "LTca7JgEYwCd",
        "outputId": "b5c527e5-91e3-43a1-9b41-3dcfeb004caf"
      },
      "outputs": [
        {
          "output_type": "stream",
          "name": "stdout",
          "text": [
            "'IndiaAmericaAfrica Peoples Dataset'   kaggle.json   model.weights.h5   nationality-detection.zip\n"
          ]
        }
      ],
      "source": [
        "!ls"
      ]
    },
    {
      "cell_type": "code",
      "execution_count": null,
      "metadata": {
        "colab": {
          "base_uri": "https://localhost:8080/"
        },
        "id": "mHqvmmx2Yzrg",
        "outputId": "5443527e-83f9-4494-af65-7511531427ba"
      },
      "outputs": [
        {
          "output_type": "stream",
          "name": "stdout",
          "text": [
            "Archive:  nationality-detection.zip\n",
            "replace IndiaAmericaAfrica Peoples Dataset/test/African/10_0_1_20170116225209209.jpg.chip.jpg? [y]es, [n]o, [A]ll, [N]one, [r]ename: "
          ]
        }
      ],
      "source": [
        "!unzip \\*.zip && rm *.zip"
      ]
    },
    {
      "cell_type": "markdown",
      "metadata": {
        "id": "AVMrrIVtTZcv"
      },
      "source": [
        "**Importing Libraries**"
      ]
    },
    {
      "cell_type": "code",
      "execution_count": null,
      "metadata": {
        "colab": {
          "base_uri": "https://localhost:8080/"
        },
        "id": "_qTSNCG_Tho0",
        "outputId": "f82ff491-ef93-4171-f1f1-b0042cce6b39"
      },
      "outputs": [
        {
          "output_type": "stream",
          "name": "stdout",
          "text": [
            "Tensorflow version 2.15.0\n"
          ]
        }
      ],
      "source": [
        "import matplotlib.pyplot as plt\n",
        "from glob import glob\n",
        "import cv2\n",
        "import random\n",
        "import os\n",
        "import numpy as np\n",
        "from tensorflow.keras.preprocessing.image import ImageDataGenerator\n",
        "from tensorflow.keras.layers import Dense, Input, Dropout, Flatten, Conv2D, BatchNormalization, Activation, MaxPooling2D\n",
        "from tensorflow.keras.models import Model, Sequential\n",
        "from tensorflow.keras.optimizers import Adam\n",
        "from tensorflow.keras.callbacks import ModelCheckpoint, ReduceLROnPlateau, EarlyStopping\n",
        "import tensorflow as tf\n",
        "from PIL import Image, ImageTk\n",
        "import tkinter as tk\n",
        "from tkinter import filedialog, Label, Button\n",
        "\n",
        "print(\"Tensorflow version\", tf.__version__)\n",
        "dataset_path = '/content/drive/MyDrive/3Emotion_Detection/IndiaAmericaAfrica Peoples Dataset'"
      ]
    },
    {
      "cell_type": "markdown",
      "metadata": {
        "id": "xOVnWJbUTuMl"
      },
      "source": [
        "**Preparing Dataset**"
      ]
    },
    {
      "cell_type": "code",
      "execution_count": null,
      "metadata": {
        "colab": {
          "base_uri": "https://localhost:8080/"
        },
        "id": "-Z4_b7dQT5Pu",
        "outputId": "d4ba1673-305c-4229-9757-5114d47b1dc9"
      },
      "outputs": [
        {
          "output_type": "stream",
          "name": "stdout",
          "text": [
            "Found 14882 images belonging to 3 classes.\n",
            "Found 3719 images belonging to 3 classes.\n"
          ]
        }
      ],
      "source": [
        "img_size = 48\n",
        "batch_size = 128\n",
        "datagen_train = ImageDataGenerator(\n",
        "    rescale=1./255,\n",
        "    horizontal_flip=True,\n",
        "    rotation_range=20,\n",
        "    zoom_range=0.2,\n",
        "    width_shift_range=0.2,\n",
        "    height_shift_range=0.2,\n",
        "    shear_range=0.2,\n",
        "    fill_mode='nearest')\n",
        "\n",
        "datagen_validation = ImageDataGenerator(rescale=1./255)\n",
        "\n",
        "train_generator = datagen_train.flow_from_directory(\"/content/drive/MyDrive/3Emotion_Detection/IndiaAmericaAfrica Peoples Dataset/train\",\n",
        "                                                    target_size=(img_size, img_size),\n",
        "                                                    batch_size=batch_size,\n",
        "                                                    class_mode='categorical',\n",
        "                                                    shuffle=True)\n",
        "\n",
        "validation_generator = datagen_validation.flow_from_directory(\"/content/drive/MyDrive/3Emotion_Detection/IndiaAmericaAfrica Peoples Dataset/test\",\n",
        "                                                              target_size=(img_size, img_size),\n",
        "                                                              batch_size=batch_size,\n",
        "                                                              class_mode='categorical',\n",
        "                                                              shuffle=True)\n"
      ]
    },
    {
      "cell_type": "markdown",
      "metadata": {
        "id": "fRT-6UlHUE0q"
      },
      "source": [
        "**Defining Model**"
      ]
    },
    {
      "cell_type": "code",
      "execution_count": null,
      "metadata": {
        "colab": {
          "base_uri": "https://localhost:8080/"
        },
        "id": "3Kgt3PDZUL3H",
        "outputId": "a2b4d3d0-587a-41a5-b74e-698f390d917b"
      },
      "outputs": [
        {
          "output_type": "stream",
          "name": "stdout",
          "text": [
            "Model: \"model\"\n",
            "_________________________________________________________________\n",
            " Layer (type)                Output Shape              Param #   \n",
            "=================================================================\n",
            " input_1 (InputLayer)        [(None, 48, 48, 3)]       0         \n",
            "                                                                 \n",
            " conv2d (Conv2D)             (None, 48, 48, 64)        1792      \n",
            "                                                                 \n",
            " batch_normalization (Batch  (None, 48, 48, 64)        256       \n",
            " Normalization)                                                  \n",
            "                                                                 \n",
            " activation (Activation)     (None, 48, 48, 64)        0         \n",
            "                                                                 \n",
            " max_pooling2d (MaxPooling2  (None, 24, 24, 64)        0         \n",
            " D)                                                              \n",
            "                                                                 \n",
            " dropout (Dropout)           (None, 24, 24, 64)        0         \n",
            "                                                                 \n",
            " conv2d_1 (Conv2D)           (None, 24, 24, 128)       204928    \n",
            "                                                                 \n",
            " batch_normalization_1 (Bat  (None, 24, 24, 128)       512       \n",
            " chNormalization)                                                \n",
            "                                                                 \n",
            " activation_1 (Activation)   (None, 24, 24, 128)       0         \n",
            "                                                                 \n",
            " max_pooling2d_1 (MaxPoolin  (None, 12, 12, 128)       0         \n",
            " g2D)                                                            \n",
            "                                                                 \n",
            " dropout_1 (Dropout)         (None, 12, 12, 128)       0         \n",
            "                                                                 \n",
            " conv2d_2 (Conv2D)           (None, 12, 12, 256)       295168    \n",
            "                                                                 \n",
            " batch_normalization_2 (Bat  (None, 12, 12, 256)       1024      \n",
            " chNormalization)                                                \n",
            "                                                                 \n",
            " activation_2 (Activation)   (None, 12, 12, 256)       0         \n",
            "                                                                 \n",
            " max_pooling2d_2 (MaxPoolin  (None, 6, 6, 256)         0         \n",
            " g2D)                                                            \n",
            "                                                                 \n",
            " dropout_2 (Dropout)         (None, 6, 6, 256)         0         \n",
            "                                                                 \n",
            " conv2d_3 (Conv2D)           (None, 6, 6, 512)         1180160   \n",
            "                                                                 \n",
            " batch_normalization_3 (Bat  (None, 6, 6, 512)         2048      \n",
            " chNormalization)                                                \n",
            "                                                                 \n",
            " activation_3 (Activation)   (None, 6, 6, 512)         0         \n",
            "                                                                 \n",
            " max_pooling2d_3 (MaxPoolin  (None, 3, 3, 512)         0         \n",
            " g2D)                                                            \n",
            "                                                                 \n",
            " dropout_3 (Dropout)         (None, 3, 3, 512)         0         \n",
            "                                                                 \n",
            " flatten (Flatten)           (None, 4608)              0         \n",
            "                                                                 \n",
            " dense (Dense)               (None, 256)               1179904   \n",
            "                                                                 \n",
            " batch_normalization_4 (Bat  (None, 256)               1024      \n",
            " chNormalization)                                                \n",
            "                                                                 \n",
            " activation_4 (Activation)   (None, 256)               0         \n",
            "                                                                 \n",
            " dropout_4 (Dropout)         (None, 256)               0         \n",
            "                                                                 \n",
            " dense_1 (Dense)             (None, 512)               131584    \n",
            "                                                                 \n",
            " batch_normalization_5 (Bat  (None, 512)               2048      \n",
            " chNormalization)                                                \n",
            "                                                                 \n",
            " activation_5 (Activation)   (None, 512)               0         \n",
            "                                                                 \n",
            " dropout_5 (Dropout)         (None, 512)               0         \n",
            "                                                                 \n",
            " dense_2 (Dense)             (None, 3)                 1539      \n",
            "                                                                 \n",
            "=================================================================\n",
            "Total params: 3001987 (11.45 MB)\n",
            "Trainable params: 2998531 (11.44 MB)\n",
            "Non-trainable params: 3456 (13.50 KB)\n",
            "_________________________________________________________________\n"
          ]
        }
      ],
      "source": [
        "def Convolution(input_tensor, filters, kernel_size):\n",
        "    x = Conv2D(filters=filters, kernel_size=kernel_size, padding=\"same\")(input_tensor)\n",
        "    x = BatchNormalization()(x)\n",
        "    x = Activation('relu')(x)\n",
        "    x = MaxPooling2D(pool_size=(2, 2))(x)\n",
        "    x = Dropout(0.25)(x)\n",
        "    return x\n",
        "\n",
        "def Dense_f(input_tensor, nodes):\n",
        "    x = Dense(nodes)(input_tensor)\n",
        "    x = BatchNormalization()(x)\n",
        "    x = Activation('relu')(x)\n",
        "    x = Dropout(0.25)(x)\n",
        "    return x\n",
        "\n",
        "def model_fer(input_shape, num_classes):\n",
        "    inputs = Input(input_shape)\n",
        "    conv_1 = Convolution(inputs, 64, (3, 3))\n",
        "    conv_2 = Convolution(conv_1, 128, (5, 5))\n",
        "    conv_3 = Convolution(conv_2, 256, (3, 3))\n",
        "    conv_4 = Convolution(conv_3, 512, (3, 3))\n",
        "\n",
        "    flatten = Flatten()(conv_4)\n",
        "    dense_1 = Dense_f(flatten, 256)\n",
        "    dense_2 = Dense_f(dense_1, 512)\n",
        "    output = Dense(num_classes, activation=\"softmax\")(dense_2)\n",
        "\n",
        "    model = Model(inputs=[inputs], outputs=[output])\n",
        "    opt = Adam(learning_rate=0.005)\n",
        "    model.compile(loss='categorical_crossentropy', optimizer=opt, metrics=['accuracy'])\n",
        "    return model\n",
        "\n",
        "num_classes = 3\n",
        "model = model_fer((48, 48, 3), num_classes)\n",
        "model.summary()"
      ]
    },
    {
      "cell_type": "markdown",
      "metadata": {
        "id": "SQjNsIo_UYEW"
      },
      "source": [
        "**Initializing the Model**"
      ]
    },
    {
      "cell_type": "code",
      "execution_count": null,
      "metadata": {
        "id": "ZReUrt3UUeCy"
      },
      "outputs": [],
      "source": [
        "epochs = 10\n",
        "steps_per_epoch = train_generator.n // train_generator.batch_size\n",
        "validation_steps = validation_generator.n // validation_generator.batch_size\n",
        "\n",
        "checkpoint = ModelCheckpoint(\"model.weights.h5\", monitor='val_accuracy', save_weights_only=True, mode='max', verbose=1)\n",
        "reduce_lr = ReduceLROnPlateau(monitor='val_loss', factor=0.1, patience=2, min_lr=0.00001)\n",
        "early_stop = EarlyStopping(monitor='val_loss', patience=5, restore_best_weights=True)\n",
        "callbacks = [checkpoint, reduce_lr, early_stop]"
      ]
    },
    {
      "cell_type": "markdown",
      "metadata": {
        "id": "Nn_pbv7iUoIq"
      },
      "source": [
        "**Model Training**"
      ]
    },
    {
      "cell_type": "code",
      "execution_count": null,
      "metadata": {
        "colab": {
          "base_uri": "https://localhost:8080/"
        },
        "id": "V8EUSxS4Usdz",
        "outputId": "719a2578-d00e-47fa-cec4-309f5d2b1201"
      },
      "outputs": [
        {
          "output_type": "stream",
          "name": "stdout",
          "text": [
            "Epoch 1/10\n",
            "116/116 [==============================] - ETA: 0s - loss: 1.0079 - accuracy: 0.5727 \n",
            "Epoch 1: saving model to model.weights.h5\n",
            "116/116 [==============================] - 2950s 23s/step - loss: 1.0079 - accuracy: 0.5727 - val_loss: 1.3723 - val_accuracy: 0.5418 - lr: 0.0050\n",
            "Epoch 2/10\n",
            "116/116 [==============================] - ETA: 0s - loss: 0.8252 - accuracy: 0.6444\n",
            "Epoch 2: saving model to model.weights.h5\n",
            "116/116 [==============================] - 640s 5s/step - loss: 0.8252 - accuracy: 0.6444 - val_loss: 1.4493 - val_accuracy: 0.5423 - lr: 0.0050\n",
            "Epoch 3/10\n",
            "116/116 [==============================] - ETA: 0s - loss: 0.7453 - accuracy: 0.6802\n",
            "Epoch 3: saving model to model.weights.h5\n",
            "116/116 [==============================] - 635s 5s/step - loss: 0.7453 - accuracy: 0.6802 - val_loss: 0.7355 - val_accuracy: 0.7029 - lr: 0.0050\n",
            "Epoch 4/10\n",
            "116/116 [==============================] - ETA: 0s - loss: 0.6472 - accuracy: 0.7283\n",
            "Epoch 4: saving model to model.weights.h5\n",
            "116/116 [==============================] - 627s 5s/step - loss: 0.6472 - accuracy: 0.7283 - val_loss: 1.1593 - val_accuracy: 0.4844 - lr: 0.0050\n",
            "Epoch 5/10\n",
            "116/116 [==============================] - ETA: 0s - loss: 0.5931 - accuracy: 0.7599\n",
            "Epoch 5: saving model to model.weights.h5\n",
            "116/116 [==============================] - 630s 5s/step - loss: 0.5931 - accuracy: 0.7599 - val_loss: 0.7561 - val_accuracy: 0.7163 - lr: 0.0050\n",
            "Epoch 6/10\n",
            "116/116 [==============================] - ETA: 0s - loss: 0.5198 - accuracy: 0.7932\n",
            "Epoch 6: saving model to model.weights.h5\n",
            "116/116 [==============================] - 590s 5s/step - loss: 0.5198 - accuracy: 0.7932 - val_loss: 0.5213 - val_accuracy: 0.8039 - lr: 5.0000e-04\n",
            "Epoch 7/10\n",
            "116/116 [==============================] - ETA: 0s - loss: 0.5016 - accuracy: 0.7998\n",
            "Epoch 7: saving model to model.weights.h5\n",
            "116/116 [==============================] - 590s 5s/step - loss: 0.5016 - accuracy: 0.7998 - val_loss: 0.4632 - val_accuracy: 0.8222 - lr: 5.0000e-04\n",
            "Epoch 8/10\n",
            "116/116 [==============================] - ETA: 0s - loss: 0.4877 - accuracy: 0.8046\n",
            "Epoch 8: saving model to model.weights.h5\n",
            "116/116 [==============================] - 626s 5s/step - loss: 0.4877 - accuracy: 0.8046 - val_loss: 0.4516 - val_accuracy: 0.8249 - lr: 5.0000e-04\n",
            "Epoch 9/10\n",
            "116/116 [==============================] - ETA: 0s - loss: 0.4799 - accuracy: 0.8114\n",
            "Epoch 9: saving model to model.weights.h5\n",
            "116/116 [==============================] - 660s 6s/step - loss: 0.4799 - accuracy: 0.8114 - val_loss: 0.5078 - val_accuracy: 0.8028 - lr: 5.0000e-04\n",
            "Epoch 10/10\n",
            "116/116 [==============================] - ETA: 0s - loss: 0.4713 - accuracy: 0.8150\n",
            "Epoch 10: saving model to model.weights.h5\n",
            "116/116 [==============================] - 632s 5s/step - loss: 0.4713 - accuracy: 0.8150 - val_loss: 0.4649 - val_accuracy: 0.8198 - lr: 5.0000e-04\n"
          ]
        }
      ],
      "source": [
        "history = model.fit(\n",
        "    x=train_generator,\n",
        "    steps_per_epoch=steps_per_epoch,\n",
        "    epochs=epochs,\n",
        "    validation_data=validation_generator,\n",
        "    validation_steps=validation_steps,\n",
        "    callbacks=callbacks)"
      ]
    },
    {
      "cell_type": "markdown",
      "metadata": {
        "id": "RUqBlB8sU4W_"
      },
      "source": [
        "**Evaluating the Model**"
      ]
    },
    {
      "cell_type": "code",
      "execution_count": null,
      "metadata": {
        "id": "OI3HK_vtU_hW",
        "colab": {
          "base_uri": "https://localhost:8080/"
        },
        "outputId": "067fa688-3570-4ef7-e39c-ec02d9154fc2"
      },
      "outputs": [
        {
          "output_type": "stream",
          "name": "stdout",
          "text": [
            "30/30 [==============================] - 56s 2s/step - loss: 0.4676 - accuracy: 0.8190\n"
          ]
        },
        {
          "output_type": "execute_result",
          "data": {
            "text/plain": [
              "[0.4675616919994354, 0.8190373778343201]"
            ]
          },
          "metadata": {},
          "execution_count": 13
        }
      ],
      "source": [
        "model.evaluate(validation_generator)"
      ]
    },
    {
      "cell_type": "markdown",
      "metadata": {
        "id": "5J_X8dg-VEqo"
      },
      "source": [
        "**Plotting**"
      ]
    },
    {
      "cell_type": "code",
      "execution_count": null,
      "metadata": {
        "id": "727CxVghVN_i",
        "colab": {
          "base_uri": "https://localhost:8080/",
          "height": 452
        },
        "outputId": "7321e4ae-cf89-4e5b-88cd-009f27160f42"
      },
      "outputs": [
        {
          "output_type": "display_data",
          "data": {
            "text/plain": [
              "<Figure size 640x480 with 1 Axes>"
            ],
            "image/png": "[encoded data removed]"
          },
          "metadata": {}
        }
      ],
      "source": [
        "plt.plot(history.history['loss'])\n",
        "plt.plot(history.history['val_loss'])\n",
        "plt.title('Model Loss')\n",
        "plt.legend(['Train', 'Validation'], loc='upper left')\n",
        "plt.show()"
      ]
    },
    {
      "cell_type": "code",
      "execution_count": null,
      "metadata": {
        "id": "PEIbJLLsVUzx",
        "colab": {
          "base_uri": "https://localhost:8080/",
          "height": 452
        },
        "outputId": "a6c6f277-35e1-499a-ab31-910405187255"
      },
      "outputs": [
        {
          "output_type": "display_data",
          "data": {
            "text/plain": [
              "<Figure size 640x480 with 1 Axes>"
            ],
            "image/png": "[encoded data removed]"
          },
          "metadata": {}
        }
      ],
      "source": [
        "plt.plot(history.history['accuracy'])\n",
        "plt.plot(history.history['val_accuracy'])\n",
        "plt.title('Model Accuracy')\n",
        "plt.legend(['Train', 'Validation'], loc='upper left')\n",
        "plt.show()"
      ]
    },
    {
      "cell_type": "markdown",
      "metadata": {
        "id": "GXOPO_EhVZOU"
      },
      "source": [
        "**Saving the Model**"
      ]
    },
    {
      "cell_type": "code",
      "execution_count": null,
      "metadata": {
        "id": "5Gi2SmymVmki"
      },
      "outputs": [],
      "source": [
        "model_json = model.to_json()\n",
        "with open(\"model_a.json\", \"w\") as json_file:\n",
        "    json_file.write(model_json)\n",
        "model.save_weights(\"model.weights.h5\")"
      ]
    },
    {
      "cell_type": "markdown",
      "metadata": {
        "id": "iullkSDkVrVC"
      },
      "source": [
        "**Loading Model**"
      ]
    },
    {
      "cell_type": "code",
      "execution_count": null,
      "metadata": {
        "id": "rHx2GaZ5Vv1H",
        "colab": {
          "base_uri": "https://localhost:8080/",
          "height": 1000
        },
        "outputId": "393e12dd-7a16-44f7-a629-8997561e0522"
      },
      "outputs": [
        {
          "output_type": "stream",
          "name": "stdout",
          "text": [
            "Requirement already satisfied: tensorflow in /usr/local/lib/python3.10/dist-packages (2.15.0)\n",
            "Requirement already satisfied: absl-py>=1.0.0 in /usr/local/lib/python3.10/dist-packages (from tensorflow) (1.4.0)\n",
            "Requirement already satisfied: astunparse>=1.6.0 in /usr/local/lib/python3.10/dist-packages (from tensorflow) (1.6.3)\n",
            "Requirement already satisfied: flatbuffers>=23.5.26 in /usr/local/lib/python3.10/dist-packages (from tensorflow) (24.3.25)\n",
            "Requirement already satisfied: gast!=0.5.0,!=0.5.1,!=0.5.2,>=0.2.1 in /usr/local/lib/python3.10/dist-packages (from tensorflow) (0.5.4)\n",
            "Requirement already satisfied: google-pasta>=0.1.1 in /usr/local/lib/python3.10/dist-packages (from tensorflow) (0.2.0)\n",
            "Requirement already satisfied: h5py>=2.9.0 in /usr/local/lib/python3.10/dist-packages (from tensorflow) (3.9.0)\n",
            "Requirement already satisfied: libclang>=13.0.0 in /usr/local/lib/python3.10/dist-packages (from tensorflow) (18.1.1)\n",
            "Requirement already satisfied: ml-dtypes~=0.2.0 in /usr/local/lib/python3.10/dist-packages (from tensorflow) (0.2.0)\n",
            "Requirement already satisfied: numpy<2.0.0,>=1.23.5 in /usr/local/lib/python3.10/dist-packages (from tensorflow) (1.25.2)\n",
            "Requirement already satisfied: opt-einsum>=2.3.2 in /usr/local/lib/python3.10/dist-packages (from tensorflow) (3.3.0)\n",
            "Requirement already satisfied: packaging in /usr/local/lib/python3.10/dist-packages (from tensorflow) (24.1)\n",
            "Requirement already satisfied: protobuf!=4.21.0,!=4.21.1,!=4.21.2,!=4.21.3,!=4.21.4,!=4.21.5,<5.0.0dev,>=3.20.3 in /usr/local/lib/python3.10/dist-packages (from tensorflow) (3.20.3)\n",
            "Requirement already satisfied: setuptools in /usr/local/lib/python3.10/dist-packages (from tensorflow) (67.7.2)\n",
            "Requirement already satisfied: six>=1.12.0 in /usr/local/lib/python3.10/dist-packages (from tensorflow) (1.16.0)\n",
            "Requirement already satisfied: termcolor>=1.1.0 in /usr/local/lib/python3.10/dist-packages (from tensorflow) (2.4.0)\n",
            "Requirement already satisfied: typing-extensions>=3.6.6 in /usr/local/lib/python3.10/dist-packages (from tensorflow) (4.12.2)\n",
            "Requirement already satisfied: wrapt<1.15,>=1.11.0 in /usr/local/lib/python3.10/dist-packages (from tensorflow) (1.14.1)\n",
            "Requirement already satisfied: tensorflow-io-gcs-filesystem>=0.23.1 in /usr/local/lib/python3.10/dist-packages (from tensorflow) (0.37.0)\n",
            "Requirement already satisfied: grpcio<2.0,>=1.24.3 in /usr/local/lib/python3.10/dist-packages (from tensorflow) (1.64.1)\n",
            "Requirement already satisfied: tensorboard<2.16,>=2.15 in /usr/local/lib/python3.10/dist-packages (from tensorflow) (2.15.2)\n",
            "Requirement already satisfied: tensorflow-estimator<2.16,>=2.15.0 in /usr/local/lib/python3.10/dist-packages (from tensorflow) (2.15.0)\n",
            "Requirement already satisfied: keras<2.16,>=2.15.0 in /usr/local/lib/python3.10/dist-packages (from tensorflow) (2.15.0)\n",
            "Requirement already satisfied: wheel<1.0,>=0.23.0 in /usr/local/lib/python3.10/dist-packages (from astunparse>=1.6.0->tensorflow) (0.43.0)\n",
            "Requirement already satisfied: google-auth<3,>=1.6.3 in /usr/local/lib/python3.10/dist-packages (from tensorboard<2.16,>=2.15->tensorflow) (2.27.0)\n",
            "Requirement already satisfied: google-auth-oauthlib<2,>=0.5 in /usr/local/lib/python3.10/dist-packages (from tensorboard<2.16,>=2.15->tensorflow) (1.2.0)\n",
            "Requirement already satisfied: markdown>=2.6.8 in /usr/local/lib/python3.10/dist-packages (from tensorboard<2.16,>=2.15->tensorflow) (3.6)\n",
            "Requirement already satisfied: requests<3,>=2.21.0 in /usr/local/lib/python3.10/dist-packages (from tensorboard<2.16,>=2.15->tensorflow) (2.31.0)\n",
            "Requirement already satisfied: tensorboard-data-server<0.8.0,>=0.7.0 in /usr/local/lib/python3.10/dist-packages (from tensorboard<2.16,>=2.15->tensorflow) (0.7.2)\n",
            "Requirement already satisfied: werkzeug>=1.0.1 in /usr/local/lib/python3.10/dist-packages (from tensorboard<2.16,>=2.15->tensorflow) (3.0.3)\n",
            "Requirement already satisfied: cachetools<6.0,>=2.0.0 in /usr/local/lib/python3.10/dist-packages (from google-auth<3,>=1.6.3->tensorboard<2.16,>=2.15->tensorflow) (5.3.3)\n",
            "Requirement already satisfied: pyasn1-modules>=0.2.1 in /usr/local/lib/python3.10/dist-packages (from google-auth<3,>=1.6.3->tensorboard<2.16,>=2.15->tensorflow) (0.4.0)\n",
            "Requirement already satisfied: rsa<5,>=3.1.4 in /usr/local/lib/python3.10/dist-packages (from google-auth<3,>=1.6.3->tensorboard<2.16,>=2.15->tensorflow) (4.9)\n",
            "Requirement already satisfied: requests-oauthlib>=0.7.0 in /usr/local/lib/python3.10/dist-packages (from google-auth-oauthlib<2,>=0.5->tensorboard<2.16,>=2.15->tensorflow) (1.3.1)\n",
            "Requirement already satisfied: charset-normalizer<4,>=2 in /usr/local/lib/python3.10/dist-packages (from requests<3,>=2.21.0->tensorboard<2.16,>=2.15->tensorflow) (3.3.2)\n",
            "Requirement already satisfied: idna<4,>=2.5 in /usr/local/lib/python3.10/dist-packages (from requests<3,>=2.21.0->tensorboard<2.16,>=2.15->tensorflow) (3.7)\n",
            "Requirement already satisfied: urllib3<3,>=1.21.1 in /usr/local/lib/python3.10/dist-packages (from requests<3,>=2.21.0->tensorboard<2.16,>=2.15->tensorflow) (2.0.7)\n",
            "Requirement already satisfied: certifi>=2017.4.17 in /usr/local/lib/python3.10/dist-packages (from requests<3,>=2.21.0->tensorboard<2.16,>=2.15->tensorflow) (2024.6.2)\n",
            "Requirement already satisfied: MarkupSafe>=2.1.1 in /usr/local/lib/python3.10/dist-packages (from werkzeug>=1.0.1->tensorboard<2.16,>=2.15->tensorflow) (2.1.5)\n",
            "Requirement already satisfied: pyasn1<0.7.0,>=0.4.6 in /usr/local/lib/python3.10/dist-packages (from pyasn1-modules>=0.2.1->google-auth<3,>=1.6.3->tensorboard<2.16,>=2.15->tensorflow) (0.6.0)\n",
            "Requirement already satisfied: oauthlib>=3.0.0 in /usr/local/lib/python3.10/dist-packages (from requests-oauthlib>=0.7.0->google-auth-oauthlib<2,>=0.5->tensorboard<2.16,>=2.15->tensorflow) (3.2.2)\n"
          ]
        },
        {
          "output_type": "error",
          "ename": "TclError",
          "evalue": "no display name and no $DISPLAY environment variable",
          "traceback": [
            "\u001b[0;31m---------------------------------------------------------------------------\u001b[0m",
            "\u001b[0;31mTclError\u001b[0m                                  Traceback (most recent call last)",
            "\u001b[0;32m<ipython-input-18-65499cf6b66a>\u001b[0m in \u001b[0;36m<cell line: 17>\u001b[0;34m()\u001b[0m\n\u001b[1;32m     15\u001b[0m \u001b[0;34m\u001b[0m\u001b[0m\n\u001b[1;32m     16\u001b[0m \u001b[0;31m# GUI\u001b[0m\u001b[0;34m\u001b[0m\u001b[0;34m\u001b[0m\u001b[0m\n\u001b[0;32m---> 17\u001b[0;31m \u001b[0mroot\u001b[0m \u001b[0;34m=\u001b[0m \u001b[0mtk\u001b[0m\u001b[0;34m.\u001b[0m\u001b[0mTk\u001b[0m\u001b[0;34m(\u001b[0m\u001b[0;34m)\u001b[0m\u001b[0;34m\u001b[0m\u001b[0;34m\u001b[0m\u001b[0m\n\u001b[0m\u001b[1;32m     18\u001b[0m \u001b[0mroot\u001b[0m\u001b[0;34m.\u001b[0m\u001b[0mtitle\u001b[0m\u001b[0;34m(\u001b[0m\u001b[0;34m\"Person Attributes Detection\"\u001b[0m\u001b[0;34m)\u001b[0m\u001b[0;34m\u001b[0m\u001b[0;34m\u001b[0m\u001b[0m\n\u001b[1;32m     19\u001b[0m \u001b[0;34m\u001b[0m\u001b[0m\n",
            "\u001b[0;32m/usr/lib/python3.10/tkinter/__init__.py\u001b[0m in \u001b[0;36m__init__\u001b[0;34m(self, screenName, baseName, className, useTk, sync, use)\u001b[0m\n\u001b[1;32m   2297\u001b[0m                 \u001b[0mbaseName\u001b[0m \u001b[0;34m=\u001b[0m \u001b[0mbaseName\u001b[0m \u001b[0;34m+\u001b[0m \u001b[0mext\u001b[0m\u001b[0;34m\u001b[0m\u001b[0;34m\u001b[0m\u001b[0m\n\u001b[1;32m   2298\u001b[0m         \u001b[0minteractive\u001b[0m \u001b[0;34m=\u001b[0m \u001b[0;32mFalse\u001b[0m\u001b[0;34m\u001b[0m\u001b[0;34m\u001b[0m\u001b[0m\n\u001b[0;32m-> 2299\u001b[0;31m         \u001b[0mself\u001b[0m\u001b[0;34m.\u001b[0m\u001b[0mtk\u001b[0m \u001b[0;34m=\u001b[0m \u001b[0m_tkinter\u001b[0m\u001b[0;34m.\u001b[0m\u001b[0mcreate\u001b[0m\u001b[0;34m(\u001b[0m\u001b[0mscreenName\u001b[0m\u001b[0;34m,\u001b[0m \u001b[0mbaseName\u001b[0m\u001b[0;34m,\u001b[0m \u001b[0mclassName\u001b[0m\u001b[0;34m,\u001b[0m \u001b[0minteractive\u001b[0m\u001b[0;34m,\u001b[0m \u001b[0mwantobjects\u001b[0m\u001b[0;34m,\u001b[0m \u001b[0museTk\u001b[0m\u001b[0;34m,\u001b[0m \u001b[0msync\u001b[0m\u001b[0;34m,\u001b[0m \u001b[0muse\u001b[0m\u001b[0;34m)\u001b[0m\u001b[0;34m\u001b[0m\u001b[0;34m\u001b[0m\u001b[0m\n\u001b[0m\u001b[1;32m   2300\u001b[0m         \u001b[0;32mif\u001b[0m \u001b[0museTk\u001b[0m\u001b[0;34m:\u001b[0m\u001b[0;34m\u001b[0m\u001b[0;34m\u001b[0m\u001b[0m\n\u001b[1;32m   2301\u001b[0m             \u001b[0mself\u001b[0m\u001b[0;34m.\u001b[0m\u001b[0m_loadtk\u001b[0m\u001b[0;34m(\u001b[0m\u001b[0;34m)\u001b[0m\u001b[0;34m\u001b[0m\u001b[0;34m\u001b[0m\u001b[0m\n",
            "\u001b[0;31mTclError\u001b[0m: no display name and no $DISPLAY environment variable"
          ]
        }
      ],
      "source": [
        "!pip install tensorflow\n",
        "from tensorflow.keras.models import model_from_json\n",
        "\n",
        "def load_model(json_file, weights_file):\n",
        "    with open(json_file, \"r\") as file:\n",
        "        loaded_model_json = file.read()\n",
        "    model = model_from_json(loaded_model_json)\n",
        "    model.load_weights(weights_file)\n",
        "    model.compile(optimizer='adam', loss='categorical_crossentropy', metrics=['accuracy'])\n",
        "    return model\n",
        "\n",
        "json_file = \"model_a.json\"\n",
        "weights_file = \"model.weights.h5\"\n",
        "model = load_model(json_file, weights_file)\n",
        "\n",
        "# GUI\n",
        "root = tk.Tk()\n",
        "root.title(\"Person Attributes Detection\")\n",
        "\n",
        "def predict_attributes(image):\n",
        "    facec = cv2.CascadeClassifier(cv2.data.haarcascades + 'haarcascade_frontalface_default.xml')\n",
        "    gray_image = cv2.cvtColor(image, cv2.COLOR_BGR2GRAY)\n",
        "    faces = facec.detectMultiScale(gray_image, 1.3, 5)\n",
        "    results = {}\n",
        "    EMOTIONS_LIST = [\"Happy\", \"Sad\", \"Neutral\"]\n",
        "    for (x, y, w, h) in faces:\n",
        "        roi = image[y:y+h, x:x+w]\n",
        "        roi = cv2.resize(roi, (48, 48))\n",
        "        roi = roi.astype('float') / 255.0\n",
        "        roi = np.expand_dims(roi, axis=0)\n",
        "        predictions = model.predict(roi)\n",
        "        nationality = np.argmax(predictions[0])\n",
        "        emotion = EMOTIONS_LIST[np.argmax(predictions[1])]\n",
        "        age = np.argmax(predictions[2])\n",
        "        dress_color = np.argmax(predictions[3])\n",
        "\n",
        "        if nationality == 0:\n",
        "            if 10 <= age <= 60:\n",
        "                results[\"Indian\"] = {\"Age\": age, \"Dress Color\": dress_color, \"Emotion\": emotion}\n",
        "        elif nationality == 1:\n",
        "            if 10 <= age <= 60:\n",
        "                results[\"United States\"] = {\"Age\": age, \"Emotion\": emotion}\n",
        "        elif nationality == 2:\n",
        "            results[\"African\"] = {\"Dress Color\": dress_color, \"Emotion\": emotion}\n",
        "        else:\n",
        "            results[\"Other\"] = {\"Emotion\": emotion}\n",
        "    return results\n",
        "\n",
        "def open_image():\n",
        "    file_path = filedialog.askopenfilename()\n",
        "    if file_path:\n",
        "        image = cv2.imread(file_path)\n",
        "        attributes = predict_attributes(image)\n",
        "        display_results(file_path, attributes)\n",
        "\n",
        "def display_results(image_path, attributes):\n",
        "    img = Image.open(image_path)\n",
        "    img = img.resize((250, 250), Image.ANTIALIAS)\n",
        "    img = ImageTk.PhotoImage(img)\n",
        "\n",
        "    panel = Label(root, image=img)\n",
        "    panel.image = img\n",
        "    panel.pack(side=\"top\", padx=10, pady=10)\n",
        "\n",
        "    result_text = \"\"\n",
        "    for nationality, details in attributes.items():\n",
        "        result_text += f\"Nationality: {nationality}\\n\"\n",
        "        for attr, value in details.items():\n",
        "            result_text += f\"{attr}: {value}\\n\"\n",
        "\n",
        "    result_label.config(text=result_text)\n",
        "\n",
        "open_button = Button(root, text=\"Open Image\", command=open_image)\n",
        "open_button.pack(side=\"top\", padx=10, pady=10)\n",
        "\n",
        "result_label = Label(root, text=\"\")\n",
        "result_label.pack(side=\"top\", padx=10, pady=10)\n",
        "\n",
        "root.mainloop()"
      ]
    }
  ],
  "metadata": {
    "colab": {
      "provenance": [],
      "authorship_tag": "ABX9TyP8Wp61I/4JcRh0RkObmfmN",
      "include_colab_link": true
    },
    "kernelspec": {
      "display_name": "Python 3",
      "name": "python3"
    },
    "language_info": {
      "name": "python"
    }
  },
  "nbformat": 4,
  "nbformat_minor": 0
}